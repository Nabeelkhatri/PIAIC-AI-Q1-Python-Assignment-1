{
 "cells": [
  {
   "cell_type": "markdown",
   "metadata": {},
   "source": [
    "# 1.\tCalculate Area of a Circle"
   ]
  },
  {
   "cell_type": "code",
   "execution_count": 1,
   "metadata": {},
   "outputs": [
    {
     "name": "stdout",
     "output_type": "stream",
     "text": [
      "Input radius: 0.5\n",
      "Area Of circle with radius 0.5 is 0.7857142857142857\n"
     ]
    }
   ],
   "source": [
    "r=float(input('Input radius: '))\n",
    "a=22/7*r**2\n",
    "print('Area Of circle with radius {} is {}'.format(r,a))"
   ]
  },
  {
   "cell_type": "code",
   "execution_count": 5,
   "metadata": {},
   "outputs": [],
   "source": [
    "import math"
   ]
  },
  {
   "cell_type": "code",
   "execution_count": 6,
   "metadata": {},
   "outputs": [
    {
     "name": "stdout",
     "output_type": "stream",
     "text": [
      "Input radius: 0.5\n",
      "Area Of circle with radius 0.5 is 0.7853981633974483\n"
     ]
    }
   ],
   "source": [
    "r=float(input('Input radius: '))\n",
    "a=math.pi*r**2\n",
    "print('Area Of circle with radius {} is {}'.format(r,a))"
   ]
  },
  {
   "cell_type": "markdown",
   "metadata": {},
   "source": [
    "# 2.\tCheck Number either positive, negative or zero"
   ]
  },
  {
   "cell_type": "code",
   "execution_count": 5,
   "metadata": {},
   "outputs": [
    {
     "name": "stdout",
     "output_type": "stream",
     "text": [
      "Enter number: -3\n",
      "Negative Number Entered\n"
     ]
    }
   ],
   "source": [
    "a=float(input('Enter number: '))\n",
    "if a<0:\n",
    "    print('Negative Number Entered')\n",
    "elif a>0:\n",
    "    print('Positive number Entered')\n",
    "else:\n",
    "    print('Entered zero')"
   ]
  },
  {
   "cell_type": "code",
   "execution_count": 2,
   "metadata": {},
   "outputs": [
    {
     "name": "stdout",
     "output_type": "stream",
     "text": [
      "Enter number: 77\n",
      "Positive number Entered\n"
     ]
    }
   ],
   "source": [
    "a=float(input('Enter number: '))\n",
    "if a<0:\n",
    "    print('Negative Number Entered')\n",
    "elif a>0:\n",
    "    print('Positive number Entered')\n",
    "else:\n",
    "    print('Entered zero')"
   ]
  },
  {
   "cell_type": "code",
   "execution_count": 7,
   "metadata": {},
   "outputs": [
    {
     "name": "stdout",
     "output_type": "stream",
     "text": [
      "Enter number: 0\n",
      "Entered zero\n"
     ]
    }
   ],
   "source": [
    "a=float(input('Enter number: '))\n",
    "if a<0:\n",
    "    print('Negative Number Entered')\n",
    "elif a>0:\n",
    "    print('Positive number Entered')\n",
    "else:\n",
    "    print('Entered zero')"
   ]
  },
  {
   "cell_type": "code",
   "execution_count": 8,
   "metadata": {},
   "outputs": [
    {
     "name": "stdout",
     "output_type": "stream",
     "text": [
      "Enter number: -44.5\n",
      "Negative Number Entered\n"
     ]
    }
   ],
   "source": [
    "a=float(input('Enter number: '))\n",
    "if a<0:\n",
    "    print('Negative Number Entered')\n",
    "elif a>0:\n",
    "    print('Positive number Entered')\n",
    "else:\n",
    "    print('Entered zero')"
   ]
  },
  {
   "cell_type": "code",
   "execution_count": 9,
   "metadata": {},
   "outputs": [
    {
     "name": "stdout",
     "output_type": "stream",
     "text": [
      "Enter number: 99.8\n",
      "Positive number Entered\n"
     ]
    }
   ],
   "source": [
    "a=float(input('Enter number: '))\n",
    "if a<0:\n",
    "    print('Negative Number Entered')\n",
    "elif a>0:\n",
    "    print('Positive number Entered')\n",
    "else:\n",
    "    print('Entered zero')"
   ]
  },
  {
   "cell_type": "markdown",
   "metadata": {},
   "source": [
    "# 3.\tDivisibility Check of two numbers"
   ]
  },
  {
   "cell_type": "code",
   "execution_count": 14,
   "metadata": {},
   "outputs": [
    {
     "name": "stdout",
     "output_type": "stream",
     "text": [
      "Enter numerator: 4\n",
      "Enter Denominator: 2\n",
      "Number 4 is completely divisible by 2\n"
     ]
    }
   ],
   "source": [
    "a=int(input('Enter numerator: '))\n",
    "b=int(input('Enter Denominator: '))\n",
    "c=a%b\n",
    "if c==0:\n",
    "    print('Number {} is completely divisible by {}'.format(a,b))\n",
    "else:\n",
    "    print('Number {} is not completely divisible by {}'.format(a,b))"
   ]
  },
  {
   "cell_type": "code",
   "execution_count": 15,
   "metadata": {},
   "outputs": [
    {
     "name": "stdout",
     "output_type": "stream",
     "text": [
      "Enter numerator: 7\n",
      "Enter Denominator: 4\n",
      "Number 7 is not completely divisible by 4\n"
     ]
    }
   ],
   "source": [
    "a=int(input('Enter numerator: '))\n",
    "b=int(input('Enter Denominator: '))\n",
    "c=a%b\n",
    "if c==0:\n",
    "    print('Number {} is completely divisible by {}'.format(a,b))\n",
    "else:\n",
    "    print('Number {} is not completely divisible by {}'.format(a,b))"
   ]
  },
  {
   "cell_type": "markdown",
   "metadata": {},
   "source": [
    "# 4.\tDays Calculator"
   ]
  },
  {
   "cell_type": "code",
   "execution_count": 42,
   "metadata": {},
   "outputs": [
    {
     "name": "stdout",
     "output_type": "stream",
     "text": [
      "Enter a date in (dd/mm/yy) format: 12/12/2018\n",
      "Enter a date in (dd/mm/yy) format: 16/12/2018\n",
      "There are 4 days in between 12/12/2018 and 16/12/2018\n"
     ]
    }
   ],
   "source": [
    "a=input('Enter a date in (dd/mm/yy) format: ')\n",
    "b=input('Enter a date in (dd/mm/yy) format: ')\n",
    "from datetime import datetime\n",
    "date_format = \"%d/%m/%Y\"\n",
    "c = datetime.strptime(a, date_format)\n",
    "d = datetime.strptime(b, date_format)\n",
    "delta = d - c\n",
    "print('There are {} days in between {} and {}'.format(delta.days,a,b))"
   ]
  },
  {
   "cell_type": "code",
   "execution_count": 43,
   "metadata": {},
   "outputs": [
    {
     "name": "stdout",
     "output_type": "stream",
     "text": [
      "Enter a date in (dd/mm/yy) format: 18/06/2019\n",
      "Enter a date in (dd/mm/yy) format: 28/12/2020\n",
      "There are 559 days in between 18/06/2019 and 28/12/2020\n"
     ]
    }
   ],
   "source": [
    "a=input('Enter a date in (dd/mm/yy) format: ')\n",
    "b=input('Enter a date in (dd/mm/yy) format: ')\n",
    "from datetime import datetime\n",
    "date_format = \"%d/%m/%Y\"\n",
    "c = datetime.strptime(a, date_format)\n",
    "d = datetime.strptime(b, date_format)\n",
    "delta = d - c\n",
    "print('There are {} days in between {} and {}'.format(delta.days,a,b))"
   ]
  },
  {
   "cell_type": "markdown",
   "metadata": {},
   "source": [
    "# 5.\tCalculate Volume of a sphere"
   ]
  },
  {
   "cell_type": "code",
   "execution_count": 45,
   "metadata": {},
   "outputs": [
    {
     "name": "stdout",
     "output_type": "stream",
     "text": [
      "Enter radius of sphere: 1\n",
      "volume of the sphere with radius 1.0 is 4.19047619047619\n"
     ]
    }
   ],
   "source": [
    "r=float(input('Enter radius of sphere: '))\n",
    "b=(4/3)*(22/7)*r**3\n",
    "print('volume of the sphere with radius {} is {}'.format(r,b))"
   ]
  },
  {
   "cell_type": "code",
   "execution_count": 48,
   "metadata": {},
   "outputs": [
    {
     "name": "stdout",
     "output_type": "stream",
     "text": [
      "Enter radius of sphere: 1\n",
      "volume of the sphere with radius 1.0 is 4.1887902047863905\n"
     ]
    }
   ],
   "source": [
    "r=float(input('Enter radius of sphere: '))\n",
    "b=(4/3)*math.pi*r**3\n",
    "print('volume of the sphere with radius {} is {}'.format(r,b))"
   ]
  },
  {
   "cell_type": "markdown",
   "metadata": {},
   "source": [
    "# 6.\tCopy string n times"
   ]
  },
  {
   "cell_type": "code",
   "execution_count": 50,
   "metadata": {},
   "outputs": [
    {
     "name": "stdout",
     "output_type": "stream",
     "text": [
      "Enter string: Hi\n",
      "How many copies of String you need: 4\n",
      "4 copis of Hi are HiHiHiHi\n"
     ]
    }
   ],
   "source": [
    "a=input('Enter string: ')\n",
    "b=int(input('How many copies of String you need: '))\n",
    "c=a*b\n",
    "print('{} copis of {} are {}'.format(b,a,c))"
   ]
  },
  {
   "cell_type": "code",
   "execution_count": 51,
   "metadata": {},
   "outputs": [
    {
     "name": "stdout",
     "output_type": "stream",
     "text": [
      "Enter string: Nabeel\n",
      "How many copies of String you need: 9\n",
      "9 copis of Nabeel are NabeelNabeelNabeelNabeelNabeelNabeelNabeelNabeelNabeel\n"
     ]
    }
   ],
   "source": [
    "a=input('Enter string: ')\n",
    "b=int(input('How many copies of String you need: '))\n",
    "c=a*b\n",
    "print('{} copis of {} are {}'.format(b,a,c))"
   ]
  },
  {
   "cell_type": "markdown",
   "metadata": {},
   "source": [
    "# 7.\tCheck if number is Even or Odd"
   ]
  },
  {
   "cell_type": "code",
   "execution_count": 52,
   "metadata": {},
   "outputs": [
    {
     "name": "stdout",
     "output_type": "stream",
     "text": [
      "Enter Number: 2\n",
      "2 is even\n"
     ]
    }
   ],
   "source": [
    "a=int(input('Enter Number: '))\n",
    "b=a % 2\n",
    "if b==0:\n",
    "    print('{} is even'.format(a))\n",
    "else:\n",
    "    print('{} is odd'.format(a))"
   ]
  },
  {
   "cell_type": "code",
   "execution_count": 53,
   "metadata": {},
   "outputs": [
    {
     "name": "stdout",
     "output_type": "stream",
     "text": [
      "Enter Number: 4\n",
      "4 is even\n"
     ]
    }
   ],
   "source": [
    "a=int(input('Enter Number: '))\n",
    "b=a % 2\n",
    "if b==0:\n",
    "    print('{} is even'.format(a))\n",
    "else:\n",
    "    print('{} is odd'.format(a))"
   ]
  },
  {
   "cell_type": "code",
   "execution_count": 54,
   "metadata": {},
   "outputs": [
    {
     "name": "stdout",
     "output_type": "stream",
     "text": [
      "Enter Number: 9\n",
      "9 is odd\n"
     ]
    }
   ],
   "source": [
    "a=int(input('Enter Number: '))\n",
    "b=a % 2\n",
    "if b==0:\n",
    "    print('{} is even'.format(a))\n",
    "else:\n",
    "    print('{} is odd'.format(a))"
   ]
  },
  {
   "cell_type": "code",
   "execution_count": 55,
   "metadata": {},
   "outputs": [
    {
     "name": "stdout",
     "output_type": "stream",
     "text": [
      "Enter Number: 0\n",
      "0 is even\n"
     ]
    }
   ],
   "source": [
    "a=int(input('Enter Number: '))\n",
    "b=a % 2\n",
    "if b==0:\n",
    "    print('{} is even'.format(a))\n",
    "else:\n",
    "    print('{} is odd'.format(a))"
   ]
  },
  {
   "cell_type": "code",
   "execution_count": 56,
   "metadata": {},
   "outputs": [
    {
     "name": "stdout",
     "output_type": "stream",
     "text": [
      "Enter Number: -2\n",
      "-2 is even\n"
     ]
    }
   ],
   "source": [
    "a=int(input('Enter Number: '))\n",
    "b=a % 2\n",
    "if b==0:\n",
    "    print('{} is even'.format(a))\n",
    "else:\n",
    "    print('{} is odd'.format(a))"
   ]
  },
  {
   "cell_type": "markdown",
   "metadata": {},
   "source": [
    "# 8.\tVowel Tester"
   ]
  },
  {
   "cell_type": "code",
   "execution_count": 5,
   "metadata": {},
   "outputs": [
    {
     "name": "stdout",
     "output_type": "stream",
     "text": [
      "enter a character: o\n",
      "letter o is vowel\n"
     ]
    }
   ],
   "source": [
    "b=input('enter a character: ')\n",
    "c=0\n",
    "a=['a','e','i','o','u']\n",
    "for n in range(0,5):\n",
    "    if b.lower()==a[n]:\n",
    "        print('letter {} is vowel'.format(b))\n",
    "    else:\n",
    "        c=c+1\n",
    "        if c==5:\n",
    "            print('letter {} is not vowel'.format(b))"
   ]
  },
  {
   "cell_type": "code",
   "execution_count": 14,
   "metadata": {},
   "outputs": [
    {
     "name": "stdout",
     "output_type": "stream",
     "text": [
      "enter a character: Y\n",
      "letter Y is not vowel\n"
     ]
    }
   ],
   "source": [
    "b=input('enter a character: ')\n",
    "c=0\n",
    "a=['a','e','i','o','u']\n",
    "for n in range(0,5):\n",
    "    if b.lower()==a[n]:\n",
    "        print('letter {} is vowel'.format(b))\n",
    "    else:\n",
    "        c=c+1\n",
    "        if c==5:\n",
    "            print('letter {} is not vowel'.format(b))"
   ]
  },
  {
   "cell_type": "code",
   "execution_count": 15,
   "metadata": {},
   "outputs": [
    {
     "name": "stdout",
     "output_type": "stream",
     "text": [
      "enter a character: E\n",
      "letter E is vowel\n"
     ]
    }
   ],
   "source": [
    "b=input('enter a character: ')\n",
    "c=0\n",
    "a=['a','e','i','o','u']\n",
    "for n in range(0,5):\n",
    "    if b.lower()==a[n]:\n",
    "        print('letter {} is vowel'.format(b))\n",
    "    else:\n",
    "        c=c+1\n",
    "        if c==5:\n",
    "            print('letter {} is not vowel'.format(b))"
   ]
  },
  {
   "cell_type": "markdown",
   "metadata": {},
   "source": [
    "# 9.\tTriangle area"
   ]
  },
  {
   "cell_type": "code",
   "execution_count": 2,
   "metadata": {},
   "outputs": [
    {
     "name": "stdout",
     "output_type": "stream",
     "text": [
      "Enter magnitude of Triangle base: 4\n",
      "Enter magnitude of Triangle height: 4\n",
      "Area of Triangle with Height 4.0 and Base 4.0 is 8.0\n"
     ]
    }
   ],
   "source": [
    "a=float(input('Enter magnitude of Triangle base: '))\n",
    "b=float(input('Enter magnitude of Triangle height: '))\n",
    "c=1/2*a*b\n",
    "print('Area of Triangle with Height {} and Base {} is {}'.format(b,a,c))"
   ]
  },
  {
   "cell_type": "markdown",
   "metadata": {},
   "source": [
    "# 10.\tCalculate Interest"
   ]
  },
  {
   "cell_type": "code",
   "execution_count": 21,
   "metadata": {},
   "outputs": [
    {
     "name": "stdout",
     "output_type": "stream",
     "text": [
      "Please enter principal amount: 10000\n",
      "Please Enter Rate of interest in %: 0.1\n",
      "Enter number of years for investment: 5\n",
      "After 5 years your principal amount 10000.0 over an interest rate of 0.1 % will be 16105.1\n"
     ]
    }
   ],
   "source": [
    "a=float(input('Please enter principal amount: '))\n",
    "b=float(input('Please Enter Rate of interest in %: '))\n",
    "c=int(input('Enter number of years for investment: '))\n",
    "d=a\n",
    "for e in range(1,c+1):\n",
    "    d=d+(b*d)\n",
    "print('After {} years your principal amount {} over an interest rate of {} % will be {}'.format(c,a,b,d))"
   ]
  },
  {
   "cell_type": "markdown",
   "metadata": {},
   "source": [
    "# 11.\tEuclidean distance"
   ]
  },
  {
   "cell_type": "code",
   "execution_count": 2,
   "metadata": {},
   "outputs": [
    {
     "name": "stdout",
     "output_type": "stream",
     "text": [
      "Enter Co-ordinate for x1: 2\n",
      "Enter Co-ordinate for x2: 4\n",
      "Enter Co-ordinate for y1: 4\n",
      "Enter Co-ordinate for y2: 4\n",
      "Distance between points (2.0, 4.0) and (4.0, 4.0) is 2.0\n"
     ]
    }
   ],
   "source": [
    "a=float(input('Enter Co-ordinate for x1: '))\n",
    "b=float(input('Enter Co-ordinate for x2: '))\n",
    "c=float(input('Enter Co-ordinate for y1: '))\n",
    "d=float(input('Enter Co-ordinate for y2: '))\n",
    "e=((b-a)**2+(d-c)**2)**1/2\n",
    "print('Distance between points ({}, {}) and ({}, {}) is {}'.format(a,c,b,d,e))"
   ]
  },
  {
   "cell_type": "markdown",
   "metadata": {},
   "source": [
    "# 12.\tFeet to Centimeter Converter"
   ]
  },
  {
   "cell_type": "code",
   "execution_count": 3,
   "metadata": {},
   "outputs": [
    {
     "name": "stdout",
     "output_type": "stream",
     "text": [
      "Enter Height in Feet: 5\n",
      "There are 152.4 Cm in 5.0 ft\n"
     ]
    }
   ],
   "source": [
    "a=float(input('Enter Height in Feet: '))\n",
    "b=a*30.48\n",
    "print('There are {} Cm in {} ft'.format(b,a))"
   ]
  },
  {
   "cell_type": "markdown",
   "metadata": {},
   "source": [
    "# 13.\tBMI Calculator "
   ]
  },
  {
   "cell_type": "code",
   "execution_count": 4,
   "metadata": {},
   "outputs": [
    {
     "name": "stdout",
     "output_type": "stream",
     "text": [
      "Enter Height in Cm: 180\n",
      "Enter Weight in Kg: 75\n",
      "Your BMI is 23.148148148148145\n"
     ]
    }
   ],
   "source": [
    "a=float(input('Enter Height in Cm: '))\n",
    "b=float(input('Enter Weight in Kg: '))\n",
    "c=b/(a/100)**2\n",
    "print('Your BMI is {}'.format(c))"
   ]
  },
  {
   "cell_type": "markdown",
   "metadata": {},
   "source": [
    "# 14.\tSum of n Positive Integers"
   ]
  },
  {
   "cell_type": "code",
   "execution_count": 5,
   "metadata": {},
   "outputs": [
    {
     "name": "stdout",
     "output_type": "stream",
     "text": [
      "Enter value of n: 5\n",
      "Sum of n Positive integers till 5 is 15\n"
     ]
    }
   ],
   "source": [
    "a=int(input('Enter value of n: '))\n",
    "b=0\n",
    "for e in range(1,a+1):\n",
    "    b=b+e\n",
    "print('Sum of n Positive integers till {} is {}'.format(a,b))"
   ]
  },
  {
   "cell_type": "markdown",
   "metadata": {},
   "source": [
    "# 15.\tDigits Sum of a Number"
   ]
  },
  {
   "cell_type": "code",
   "execution_count": 3,
   "metadata": {},
   "outputs": [
    {
     "name": "stdout",
     "output_type": "stream",
     "text": [
      "Enter a number: 15\n",
      "sum of ['1', '5'] is 6\n"
     ]
    }
   ],
   "source": [
    "a=input('Enter a number: ')\n",
    "c=0\n",
    "n=[]\n",
    "x=['1','2','3','4','5','6','7','8','9']\n",
    "for e in x:\n",
    "    b=a.count(e)\n",
    "    if b!=0:\n",
    "        n.append(e)\n",
    "        c=c+b*int(e)\n",
    "print('sum of {} is {}'.format(n,c))"
   ]
  },
  {
   "cell_type": "markdown",
   "metadata": {},
   "source": [
    "# 16.\tDecimal to Binary Converter"
   ]
  },
  {
   "cell_type": "code",
   "execution_count": 5,
   "metadata": {},
   "outputs": [
    {
     "name": "stdout",
     "output_type": "stream",
     "text": [
      "Enter a decimal number: 5\n",
      "Binary Representation of 5 is 101\n"
     ]
    }
   ],
   "source": [
    "a=int(input('Enter a decimal number: '))\n",
    "d=a\n",
    "b=''\n",
    "while a>0:\n",
    "    c=a%2\n",
    "    b=b+str(c)\n",
    "    a=a//2\n",
    "print('Binary Representation of {} is {}'.format(d,b[::-1]))"
   ]
  },
  {
   "cell_type": "code",
   "execution_count": 6,
   "metadata": {},
   "outputs": [
    {
     "name": "stdout",
     "output_type": "stream",
     "text": [
      "Enter a decimal number: 32\n",
      "Binary Representation of 32 is 100000\n"
     ]
    }
   ],
   "source": [
    "a=int(input('Enter a decimal number: '))\n",
    "d=a\n",
    "b=''\n",
    "while a>0:\n",
    "    c=a%2\n",
    "    b+=str(c)\n",
    "    a=a//2\n",
    "print('Binary Representation of {} is {}'.format(d,b[::-1]))"
   ]
  },
  {
   "cell_type": "markdown",
   "metadata": {},
   "source": [
    "# 17.\tBinary to Decimal Converter"
   ]
  },
  {
   "cell_type": "code",
   "execution_count": 13,
   "metadata": {},
   "outputs": [
    {
     "name": "stdout",
     "output_type": "stream",
     "text": [
      "Enter a Binary number: 1101\n",
      "Decimal Representation of 1101 is 13\n"
     ]
    }
   ],
   "source": [
    "a=input('Enter a Binary number: ')\n",
    "c=0\n",
    "for e in range(0,len(a)):\n",
    "    b=(int(a[e]))*(2**(len(a)-e-1))\n",
    "    c=c+b\n",
    "print('Decimal Representation of {} is {}'.format(int(a),c))"
   ]
  },
  {
   "cell_type": "code",
   "execution_count": 14,
   "metadata": {},
   "outputs": [
    {
     "name": "stdout",
     "output_type": "stream",
     "text": [
      "Enter a Binary number: 1001\n",
      "Decimal Representation of 1001 is 9\n"
     ]
    }
   ],
   "source": [
    "a=input('Enter a Binary number: ')\n",
    "c=0\n",
    "for e in range(0,len(a)):\n",
    "    b=(int(a[e]))*(2**(len(a)-e-1))\n",
    "    c=c+b\n",
    "print('Decimal Representation of {} is {}'.format(int(a),c))"
   ]
  },
  {
   "cell_type": "markdown",
   "metadata": {},
   "source": [
    "# 18.\tVowel and Consonants Counter"
   ]
  },
  {
   "cell_type": "code",
   "execution_count": 36,
   "metadata": {},
   "outputs": [
    {
     "name": "stdout",
     "output_type": "stream",
     "text": [
      "Enter text: QuickBrownFoxJumpsovertheDog\n",
      "Vowels: 9\n",
      "Consonants: 19\n"
     ]
    }
   ],
   "source": [
    "a=input('Enter text: ')\n",
    "c=0\n",
    "p=0\n",
    "g=a.lower()\n",
    "b=['a','e','i','o','u']\n",
    "for e in range(0,len(a)):\n",
    "    f=0\n",
    "    for n in range(0,5):\n",
    "        if g[e]==b[n]:\n",
    "            c=c+1\n",
    "        else:\n",
    "            f=f+1\n",
    "            if f==5:\n",
    "                p=p+1\n",
    "print('Vowels: {}'.format(c))\n",
    "print('Consonants: {}'.format(p))"
   ]
  },
  {
   "cell_type": "code",
   "execution_count": 2,
   "metadata": {},
   "outputs": [
    {
     "name": "stdout",
     "output_type": "stream",
     "text": [
      "Enter text: PAKIstaNZINdabad\n",
      "Vowels: 6\n",
      "Consonants: 10\n"
     ]
    }
   ],
   "source": [
    "a=input('Enter text: ')\n",
    "c=0\n",
    "p=0\n",
    "g=a.lower()\n",
    "b=['a','e','i','o','u']\n",
    "for e in range(0,len(a)):\n",
    "    f=0\n",
    "    for n in range(0,5):\n",
    "        if g[e]==b[n]:\n",
    "            c=c+1\n",
    "        else:\n",
    "            f=f+1\n",
    "            if f==5:\n",
    "                p=p+1\n",
    "print('Vowels: {}'.format(c))\n",
    "print('Consonants: {}'.format(p))"
   ]
  },
  {
   "cell_type": "markdown",
   "metadata": {},
   "source": [
    "# 19.\tPalindrome tester"
   ]
  },
  {
   "cell_type": "code",
   "execution_count": 8,
   "metadata": {},
   "outputs": [
    {
     "name": "stdout",
     "output_type": "stream",
     "text": [
      "Enter text: mom\n",
      "Text mom is Palindrome\n"
     ]
    }
   ],
   "source": [
    "a=input('Enter text: ')\n",
    "b=a[::-1]\n",
    "if a==b:\n",
    "    print('Text {} is Palindrome'.format(a))\n",
    "else:\n",
    "    print('Text {} is not Palindrome'.format(a))"
   ]
  },
  {
   "cell_type": "code",
   "execution_count": 9,
   "metadata": {},
   "outputs": [
    {
     "name": "stdout",
     "output_type": "stream",
     "text": [
      "Enter text: dad\n",
      "Text dad is Palindrome\n"
     ]
    }
   ],
   "source": [
    "a=input('Enter text: ')\n",
    "b=a[::-1]\n",
    "if a==b:\n",
    "    print('Text {} is Palindrome'.format(a))\n",
    "else:\n",
    "    print('Text {} is not Palindrome'.format(a))"
   ]
  },
  {
   "cell_type": "code",
   "execution_count": 10,
   "metadata": {},
   "outputs": [
    {
     "name": "stdout",
     "output_type": "stream",
     "text": [
      "Enter text: AHA\n",
      "Text AHA is Palindrome\n"
     ]
    }
   ],
   "source": [
    "a=input('Enter text: ')\n",
    "b=a[::-1]\n",
    "if a==b:\n",
    "    print('Text {} is Palindrome'.format(a))\n",
    "else:\n",
    "    print('Text {} is not Palindrome'.format(a))"
   ]
  },
  {
   "cell_type": "code",
   "execution_count": 11,
   "metadata": {},
   "outputs": [
    {
     "name": "stdout",
     "output_type": "stream",
     "text": [
      "Enter text: Hello\n",
      "Text Hello is not Palindrome\n"
     ]
    }
   ],
   "source": [
    "a=input('Enter text: ')\n",
    "b=a[::-1]\n",
    "if a==b:\n",
    "    print('Text {} is Palindrome'.format(a))\n",
    "else:\n",
    "    print('Text {} is not Palindrome'.format(a))"
   ]
  },
  {
   "cell_type": "code",
   "execution_count": 13,
   "metadata": {},
   "outputs": [
    {
     "name": "stdout",
     "output_type": "stream",
     "text": [
      "Enter text: civic\n",
      "Text civic is Palindrome\n"
     ]
    }
   ],
   "source": [
    "a=input('Enter text: ')\n",
    "b=a[::-1]\n",
    "if a==b:\n",
    "    print('Text {} is Palindrome'.format(a))\n",
    "else:\n",
    "    print('Text {} is not Palindrome'.format(a))"
   ]
  },
  {
   "cell_type": "code",
   "execution_count": 15,
   "metadata": {},
   "outputs": [
    {
     "name": "stdout",
     "output_type": "stream",
     "text": [
      "Enter text: rotor\n",
      "Text rotor is Palindrome\n"
     ]
    }
   ],
   "source": [
    "a=input('Enter text: ')\n",
    "b=a[::-1]\n",
    "if a==b:\n",
    "    print('Text {} is Palindrome'.format(a))\n",
    "else:\n",
    "    print('Text {} is not Palindrome'.format(a))"
   ]
  },
  {
   "cell_type": "markdown",
   "metadata": {},
   "source": [
    "# 20.\tCount Alphabets, Numbers and Special Characters"
   ]
  },
  {
   "cell_type": "code",
   "execution_count": 2,
   "metadata": {},
   "outputs": [
    {
     "name": "stdout",
     "output_type": "stream",
     "text": [
      "Enter text: Python 3.2\n",
      "Numbners = 2\n",
      "Alphabets = 6\n",
      "Special Characters = 1\n",
      "Spaces = 1\n"
     ]
    }
   ],
   "source": [
    "string = input(\"Enter text: \")\n",
    "alphabets = numbers = special = spaces = 0\n",
    "\n",
    "for i in range(len(string)):\n",
    "    if(string[i].isalpha()):\n",
    "        alphabets = alphabets + 1\n",
    "    elif(string[i].isdigit()):\n",
    "        numbers = numbers + 1\n",
    "    elif(string[i].isspace()):\n",
    "        spaces = spaces + 1\n",
    "    else:\n",
    "        special = special + 1\n",
    "        \n",
    "print(\"Numbners = {}\".format(numbers) )\n",
    "print(\"Alphabets = {}\".format(alphabets))\n",
    "print(\"Special Characters = {}\".format(special))\n",
    "print(\"Spaces = {}\".format(spaces))"
   ]
  },
  {
   "cell_type": "markdown",
   "metadata": {},
   "source": [
    "# 21.\tWrite a Python program to construct the following pattern\n",
    "\n"
   ]
  },
  {
   "cell_type": "code",
   "execution_count": 3,
   "metadata": {},
   "outputs": [
    {
     "name": "stdout",
     "output_type": "stream",
     "text": [
      "*\n",
      "**\n",
      "***\n",
      "****\n",
      "*****\n",
      "****\n",
      "***\n",
      "**\n",
      "*\n",
      "\n"
     ]
    }
   ],
   "source": [
    "a='*'\n",
    "for e in range(1,6):\n",
    "    print(a*e)\n",
    "for n in range(5,0,-1):\n",
    "    b=n-1\n",
    "    print(a*b)"
   ]
  },
  {
   "cell_type": "markdown",
   "metadata": {},
   "source": [
    "# 22.\tWrite a Python program to construct the following pattern\n",
    "\n"
   ]
  },
  {
   "cell_type": "code",
   "execution_count": 4,
   "metadata": {},
   "outputs": [
    {
     "name": "stdout",
     "output_type": "stream",
     "text": [
      "1\n",
      "12\n",
      "123\n",
      "1234\n",
      "12345\n",
      "1234\n",
      "123\n",
      "12\n",
      "1\n"
     ]
    }
   ],
   "source": [
    "b=''\n",
    "for a in range(1,6):\n",
    "    b=b+str(a)\n",
    "    v=int(b)\n",
    "    print(v)\n",
    "for c in range(4,0,-1):\n",
    "    g=int(b[0:c])\n",
    "    print(g)"
   ]
  },
  {
   "cell_type": "markdown",
   "metadata": {},
   "source": [
    "# 23.\tWrite a Python program to construct the following pattern"
   ]
  },
  {
   "cell_type": "code",
   "execution_count": 51,
   "metadata": {},
   "outputs": [
    {
     "name": "stdout",
     "output_type": "stream",
     "text": [
      "1\n",
      "22\n",
      "333\n",
      "4444\n",
      "55555\n",
      "666666\n",
      "7777777\n",
      "88888888\n",
      "999999999\n"
     ]
    }
   ],
   "source": [
    "for e in range(1,10):\n",
    "    print(str(e)*e)"
   ]
  },
  {
   "cell_type": "code",
   "execution_count": null,
   "metadata": {},
   "outputs": [],
   "source": []
  }
 ],
 "metadata": {
  "kernelspec": {
   "display_name": "Python 3",
   "language": "python",
   "name": "python3"
  }
 },
 "nbformat": 4,
 "nbformat_minor": 2
}
